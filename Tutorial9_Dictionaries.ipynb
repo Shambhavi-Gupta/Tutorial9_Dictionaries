{
  "nbformat": 4,
  "nbformat_minor": 0,
  "metadata": {
    "colab": {
      "name": "Tutorial9_Dictionaries.ipynb",
      "provenance": [],
      "authorship_tag": "ABX9TyOQYz0m2gWK3WurWN3CrIjU",
      "include_colab_link": true
    },
    "kernelspec": {
      "name": "python3",
      "display_name": "Python 3"
    }
  },
  "cells": [
    {
      "cell_type": "markdown",
      "metadata": {
        "id": "view-in-github",
        "colab_type": "text"
      },
      "source": [
        "<a href=\"https://colab.research.google.com/github/Shambhavi-Gupta/Tutorial9_Dictionaries/blob/main/Tutorial9_Dictionaries.ipynb\" target=\"_parent\"><img src=\"https://colab.research.google.com/assets/colab-badge.svg\" alt=\"Open In Colab\"/></a>"
      ]
    },
    {
      "cell_type": "code",
      "metadata": {
        "id": "aWMhX7FCIiVl"
      },
      "source": [
        "#d1 = { }\r\n",
        "#print(type(d1))\r\n",
        "d2 = {\"Meera\" : \"Noodles\" , \"Riya\" : \"Burger\" , \"Priya\" : \"Coffee\",\r\n",
        "      \"Muskan\" : {\"M\":\"Shopping\" , \"T\" : \"Movie\" , \"W\" : \"Picnic\"}}\r\n",
        "#print(d2)\r\n",
        "#print(d2[\"Riya\"])\r\n",
        "#print(d2[\"Muskan\"][\"W\"])\r\n",
        "d2[\"Simran\"] = \"South Indian\"\r\n",
        "#print(d2)\r\n",
        "#del d2['Simran']\r\n",
        "#print(d2)\r\n",
        "#d3 = d2\r\n",
        "#d3 = d2.copy()\r\n",
        "#print(d2)\r\n",
        "#print(d2.get(\"Meera\"))\r\n",
        "d2.update({'Meera': \"Chocolate\" })\r\n",
        "#print(d2)\r\n",
        "#print(d2.keys())\r\n"
      ],
      "execution_count": null,
      "outputs": []
    }
  ]
}